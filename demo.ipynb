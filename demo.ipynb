{
 "cells": [
  {
   "cell_type": "markdown",
   "id": "cordless-printer",
   "metadata": {},
   "source": [
    "# Combining Prodigy Datasets from Multiple Annotators\n",
    "## Justin A. Gould (gould29@purdue.edu)\n",
    "## February 2021"
   ]
  },
  {
   "cell_type": "markdown",
   "id": "metropolitan-generation",
   "metadata": {},
   "source": [
    "# Required Packages"
   ]
  },
  {
   "cell_type": "code",
   "execution_count": 1,
   "id": "defined-wallet",
   "metadata": {},
   "outputs": [],
   "source": [
    "#Internal Packages\n",
    "from src.combine_data import combine"
   ]
  },
  {
   "cell_type": "markdown",
   "id": "robust-rubber",
   "metadata": {},
   "source": [
    "# Scenario 1: Combining Datasets within a Single Database"
   ]
  },
  {
   "cell_type": "code",
   "execution_count": 2,
   "id": "cellular-analyst",
   "metadata": {},
   "outputs": [
    {
     "name": "stdout",
     "output_type": "stream",
     "text": [
      "Completed! Added ['cummins_gould29', 'demo_set'] as new_data in ./sample_data/prod3.db\n"
     ]
    }
   ],
   "source": [
    "#Inputs\n",
    "db_path = \"./sample_data/prod3.db\"\n",
    "new_dataset_name = \"new_data\"\n",
    "datasets_to_combine = [\"cummins_gould29\", \"demo_set\"]\n",
    "\n",
    "#Run Function\n",
    "combine.combine_within_database(db_path, \n",
    "                                new_dataset_name, \n",
    "                                datasets_to_combine)"
   ]
  },
  {
   "cell_type": "markdown",
   "id": "official-relief",
   "metadata": {},
   "source": [
    "# Scenario 2: Combining Datasets from Different Databases"
   ]
  },
  {
   "cell_type": "code",
   "execution_count": 3,
   "id": "pending-trance",
   "metadata": {},
   "outputs": [
    {
     "name": "stdout",
     "output_type": "stream",
     "text": [
      "Completed! Added data as newest_data_combo in ./sample_data/prod_multiple2.db\n"
     ]
    }
   ],
   "source": [
    "#Inputs\n",
    "d = {\"databases\" : \n",
    "        {\n",
    "            \"./sample_data/prod_multiple1.db\" :  {\n",
    "                                \"datasets_to_combine\" : [\"cummins_gould29\"]\n",
    "                                },\n",
    "            \"./sample_data/prod_multiple2.db\" :  {\n",
    "                                \"datasets_to_combine\" : [\"cummins_gould29\", \"demo_set\", \"my_set\"]\n",
    "                                },\n",
    "            \"./sample_data/prod_multiple3.db\" :  {\n",
    "                                \"datasets_to_combine\" : [\"cummins_gould29\", \"demo_set\"]\n",
    "                                }\n",
    "                    },\n",
    "     \"new_dataset_name\" : \"newest_data_combo\",\n",
    "     \"db_path_to_save\"  : \"./sample_data/prod_multiple2.db\"\n",
    "}\n",
    "\n",
    "#Run Function\n",
    "combine.combine_databases(d)"
   ]
  }
 ],
 "metadata": {
  "kernelspec": {
   "display_name": "Python 3",
   "language": "python",
   "name": "python3"
  },
  "language_info": {
   "codemirror_mode": {
    "name": "ipython",
    "version": 3
   },
   "file_extension": ".py",
   "mimetype": "text/x-python",
   "name": "python",
   "nbconvert_exporter": "python",
   "pygments_lexer": "ipython3",
   "version": "3.8.5"
  }
 },
 "nbformat": 4,
 "nbformat_minor": 5
}
